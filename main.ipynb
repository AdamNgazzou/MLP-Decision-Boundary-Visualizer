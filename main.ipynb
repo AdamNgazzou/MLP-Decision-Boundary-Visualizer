{
 "cells": [
  {
   "cell_type": "code",
   "execution_count": 11,
   "id": "4b689a4d",
   "metadata": {},
   "outputs": [
    {
     "data": {
      "application/vnd.jupyter.widget-view+json": {
       "model_id": "96480adbe8cc43e094737381580f4cb2",
       "version_major": 2,
       "version_minor": 0
      },
      "text/plain": [
       "interactive(children=(IntSlider(value=1, description='Hidden Layer Size', max=10, min=1), Output()), _dom_clas…"
      ]
     },
     "metadata": {},
     "output_type": "display_data"
    }
   ],
   "source": [
    "import numpy as np \n",
    "import matplotlib.pyplot as plt\n",
    "from sklearn.datasets import make_circles\n",
    "from sklearn.neural_network import MLPClassifier\n",
    "import ipywidgets as widgets\n",
    "from ipywidgets import interactive\n",
    "from IPython.display import display\n",
    "# Function to update the plot based on the hidden layer size display it \n",
    "def update_plot(hidden_layer_size):\n",
    "    # Generate synthetic data (circles)\n",
    "    X, y = make_circles(n_samples=300, noise=0.1, factor=0.5, random_state=0)\n",
    "\n",
    "    # Create a multi-layer perceptron (MLP) classifier\n",
    "    clf = MLPClassifier(hidden_layer_sizes=(hidden_layer_size,),activation='relu', max_iter=1000, random_state=1)\n",
    "\n",
    "    # Fit the classifier to the data\n",
    "    clf.fit(X, y)\n",
    "\n",
    "    # Create a grid of points to plot for visualization\n",
    "    # These are ID arrays of 100 values each, representing the x and y coordinates of the grid \n",
    "    X_vals = np.linspace(X[:, 0].min() - 1, X[:, 0].max() + 1, 100)\n",
    "    Y_vals = np.linspace(X[:, 1].min() - 1, X[:, 1].max() + 1, 100)\n",
    "\n",
    "    # The resulting X_plane and Y_plane are both 100x100 arrays, representing the grid of points\n",
    "    # Representing the grid of 10,000 points \n",
    "    X_plane, Y_plane = np.meshgrid(X_vals, Y_vals)\n",
    "    \n",
    "    # grid_points is a signle 2D array (grid_points) of shape (10000, 2)\n",
    "    # Where each row represents a point in the grid\n",
    "    grid_points = np.column_stack((X_plane.ravel(), Y_plane.ravel()))\n",
    "    \n",
    "    # Predict the class labels for the grid points (for decision boundary)\n",
    "    Z = clf.predict(grid_points)\n",
    "\n",
    "    # Z.reshape(X_plane.shape) reshapes Z into 100x100 array\n",
    "    Z = Z.reshape(X_plane.shape)\n",
    "\n",
    "    # Predict the class labels for the original data points\n",
    "    y_pred = clf.predict(X)\n",
    "\n",
    "    # Clear the previous plot\n",
    "    plt.clf()\n",
    "\n",
    "    # Plot the decision boundary\n",
    "    # it is often to visualise the decision boundary of a model by plotting \n",
    "    # the predicted class probabilities or labels over a grid of points \n",
    "    plt.contourf(X_plane, Y_plane, Z, levels=[-0.5, 0.5, 1.5], cmap=plt.cm.RdYlGn,alpha=0.6)\n",
    "\n",
    "    # Plot the original data points with their predicted labels\n",
    "    # Seperate points for each class\n",
    "    class_0 = y_pred == 0 # Indices of points in class 0\n",
    "    class_1 = y_pred == 1 # Indices of points in class 1\n",
    "    plt.scatter(X[class_0, 0], X[class_0, 1], c='red', edgecolor='k', marker='o', label='Predicted Class 0', s=50)\n",
    "    plt.scatter(X[class_1, 0], X[class_1, 1], c='green', edgecolor='k', marker='o', label='Predicted Class 1', s=50)\n",
    "\n",
    "    # Add labels and title\n",
    "    plt.xlabel('Feature 1')\n",
    "    plt.ylabel('Feature 2')\n",
    "    plt.title('Decision Boundary and predicted Labels (Hidden Layer Size: {})'.format(hidden_layer_size))\n",
    "    plt.legend()\n",
    "    plt.show()\n",
    "\n",
    "# Create a slider for hidden layer size\n",
    "hidden_layer_size_slider = widgets.IntSlider(value=1,min=1, max=10, step=1, description='Hidden Layer Size')\n",
    "\n",
    "# Create an interactive widget \n",
    "interactive_plot = interactive(update_plot, hidden_layer_size=hidden_layer_size_slider)\n",
    "\n",
    "# Display the Widgets\n",
    "display(interactive_plot)"
   ]
  }
 ],
 "metadata": {
  "kernelspec": {
   "display_name": "base",
   "language": "python",
   "name": "python3"
  },
  "language_info": {
   "codemirror_mode": {
    "name": "ipython",
    "version": 3
   },
   "file_extension": ".py",
   "mimetype": "text/x-python",
   "name": "python",
   "nbconvert_exporter": "python",
   "pygments_lexer": "ipython3",
   "version": "3.13.5"
  }
 },
 "nbformat": 4,
 "nbformat_minor": 5
}
